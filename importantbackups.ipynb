{
  "nbformat": 4,
  "nbformat_minor": 0,
  "metadata": {
    "colab": {
      "provenance": [],
      "authorship_tag": "ABX9TyNEJCsa4KAuIN74t+irpOzf",
      "include_colab_link": true
    },
    "kernelspec": {
      "name": "python3",
      "display_name": "Python 3"
    },
    "language_info": {
      "name": "python"
    }
  },
  "cells": [
    {
      "cell_type": "markdown",
      "metadata": {
        "id": "view-in-github",
        "colab_type": "text"
      },
      "source": [
        "<a href=\"https://colab.research.google.com/github/akshayrjn1/paperproject/blob/main/importantbackups.ipynb\" target=\"_parent\"><img src=\"https://colab.research.google.com/assets/colab-badge.svg\" alt=\"Open In Colab\"/></a>"
      ]
    },
    {
      "cell_type": "code",
      "execution_count": null,
      "metadata": {
        "id": "QrSjZSlVhEMR"
      },
      "outputs": [],
      "source": [
        "import numpy as np\n",
        "import math\n",
        "def gauss_jacobi(alpha,beta,m):\n",
        "  \"\"\"\n",
        "    This function computes the Gauss-Jacobi quadrature points and weights for\n",
        "    numerical integration\n",
        "\n",
        "    Args:\n",
        "      alpha: Real parameter of the Jacobi weight function\n",
        "      beta: Real parameter of the Jacobi weight function\n",
        "      m: Number of quadrature points.\n",
        "\n",
        "    Returns:\n",
        "      abscissa: Array of m Gauss-Jacobi quadrature points.\n",
        "      weights: Array of m corresponding weights\n",
        "\n",
        "    As Gauss-Legendre rule can be reagarded as special case of Gauss-Jacobi\n",
        "    when alpha=beta=0\n",
        "  \"\"\"\n",
        "  ab = alpha + beta\n",
        "  abi = 2.0 + ab\n",
        "  zemu = 2.0**(ab + 1.0) * math.gamma(alpha + 1.0) * math.gamma(beta + 1.0) / math.gamma(abi)\n",
        "  aj = np.zeros(m)\n",
        "  bj = np.zeros(m)\n",
        "  a2b2 = beta * beta - alpha * alpha\n",
        "\n",
        "  aj[0] = (beta - alpha) / abi\n",
        "  bj[0] = 4.0 * (1.0 + alpha) * (1.0 + beta) / ((abi + 1.0) * abi * abi)\n",
        "\n",
        "  for j in range(1, m):\n",
        "      i=j+1\n",
        "      abi = 2.0 * i + ab\n",
        "      aj[j] = a2b2 / ((abi - 2.0) * abi)\n",
        "      # the equation comes from recurrence relation\n",
        "      # the eq is A=-(alpha^2-beta^2)/((2n+alpha+beta)*(2n+alpha+beta-2))\n",
        "      abi = abi**2\n",
        "      bj[j] = 4.0 * i * (i + alpha) * (i + beta) * (i + ab) / ((abi - 1.0) * abi)\n",
        "\n",
        "  bj = np.sqrt(bj)\n",
        "  A=np.diag(aj) + np.diag(bj[0:m-1],-1) + np.diag(bj[0:m-1],1)\n",
        "  eigvals, eigvecs=np.linalg.eig( A)\n",
        "  idx = np.argsort(eigvals)\n",
        "  abscissa = eigvals[idx]\n",
        "  weights =zemu * np.square(eigvecs[:, idx][0])\n",
        "\n",
        "  return abscissa,weights"
      ]
    },
    {
      "cell_type": "code",
      "source": [
        "!git remote add origin https://github.com/akshayrjn1/paperproject.git"
      ],
      "metadata": {
        "id": "RrGrMHFCiw6i",
        "outputId": "96a90f20-600b-493d-e629-698168cd22c5",
        "colab": {
          "base_uri": "https://localhost:8080/"
        }
      },
      "execution_count": null,
      "outputs": [
        {
          "output_type": "stream",
          "name": "stdout",
          "text": [
            "fatal: not a git repository (or any of the parent directories): .git\n"
          ]
        }
      ]
    }
  ]
}